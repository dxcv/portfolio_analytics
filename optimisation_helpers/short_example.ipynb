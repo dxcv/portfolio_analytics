{
 "cells": [
  {
   "cell_type": "code",
   "execution_count": 11,
   "metadata": {
    "collapsed": true
   },
   "outputs": [],
   "source": [
    "import pandas as pd\n",
    "import numpy as np\n",
    "import matplotlib.pyplot as plt\n",
    "%matplotlib inline"
   ]
  },
  {
   "cell_type": "code",
   "execution_count": 12,
   "metadata": {
    "collapsed": true
   },
   "outputs": [],
   "source": [
    "from opt_helpers import Opt_Helpers\n",
    "from pandas_datareader import data"
   ]
  },
  {
   "cell_type": "code",
   "execution_count": 13,
   "metadata": {
    "collapsed": true
   },
   "outputs": [],
   "source": [
    "\"\"\"Define parameters for data request.\"\"\"\n",
    "\n",
    "tickers = ['AGG', 'EBND', 'URTH', 'EEM']\n",
    "data_source = 'yahoo'\n",
    "start_date = '2014-03-31'\n",
    "end_date = '2018-03-31'"
   ]
  },
  {
   "cell_type": "code",
   "execution_count": 14,
   "metadata": {},
   "outputs": [],
   "source": [
    "\"\"\"Request data, ensure sorted by ascending date, and normalise.\"\"\"\n",
    "\n",
    "panel_data = data.DataReader(tickers, data_source, start_date, end_date)\n",
    "px_data = panel_data.loc['Adj Close'].dropna().sort_index(ascending=True)\n",
    "px_data = px_data / px_data.iloc[0]"
   ]
  },
  {
   "cell_type": "code",
   "execution_count": 15,
   "metadata": {},
   "outputs": [],
   "source": [
    "\"\"\"Initialise class with price data.\"\"\"\n",
    "\n",
    "opt = Opt_Helpers(px_data)"
   ]
  },
  {
   "cell_type": "code",
   "execution_count": 35,
   "metadata": {
    "collapsed": true
   },
   "outputs": [],
   "source": [
    "\"\"\"\n",
    "TEST CASE\n",
    "Add constraints: Portfolio weights must sum to 100%, minimum ann. return > 3.0%,\n",
    "Add boundaries: Long only, no short positions.\n",
    "\"\"\"\n",
    "\n",
    "min_ret = 0.035\n",
    "\n",
    "cons = (\n",
    "    {'type': 'eq', 'fun': lambda w: np.sum(w) - 1},\n",
    "    {'type': 'ineq', 'fun': lambda w: opt.summary_stats(w)['exp_return'] - min_ret}\n",
    ")\n",
    "\n",
    "bnds = tuple((0, 1) for x in px_data.columns)"
   ]
  },
  {
   "cell_type": "code",
   "execution_count": 36,
   "metadata": {},
   "outputs": [
    {
     "name": "stdout",
     "output_type": "stream",
     "text": [
      "Optimization terminated successfully. Success==True after 7 iterations.\n",
      "Total time: 0.20136809349060059 secs\n"
     ]
    }
   ],
   "source": [
    "\"\"\"Run optimisation.\"\"\"\n",
    "\n",
    "opt_res = opt.port_optimisation(opt.max_dr, constraints=cons, bounds=bnds)"
   ]
  },
  {
   "cell_type": "code",
   "execution_count": 37,
   "metadata": {},
   "outputs": [
    {
     "data": {
      "text/html": [
       "<div>\n",
       "<style>\n",
       "    .dataframe thead tr:only-child th {\n",
       "        text-align: right;\n",
       "    }\n",
       "\n",
       "    .dataframe thead th {\n",
       "        text-align: left;\n",
       "    }\n",
       "\n",
       "    .dataframe tbody tr th {\n",
       "        vertical-align: top;\n",
       "    }\n",
       "</style>\n",
       "<table border=\"1\" class=\"dataframe\">\n",
       "  <thead>\n",
       "    <tr style=\"text-align: right;\">\n",
       "      <th></th>\n",
       "      <th>pos_wgt</th>\n",
       "      <th>vol_contrib</th>\n",
       "    </tr>\n",
       "  </thead>\n",
       "  <tbody>\n",
       "    <tr>\n",
       "      <th>AGG</th>\n",
       "      <td>0.738948</td>\n",
       "      <td>0.254442</td>\n",
       "    </tr>\n",
       "    <tr>\n",
       "      <th>EBND</th>\n",
       "      <td>0.000679</td>\n",
       "      <td>0.000823</td>\n",
       "    </tr>\n",
       "    <tr>\n",
       "      <th>EEM</th>\n",
       "      <td>0.032694</td>\n",
       "      <td>0.113515</td>\n",
       "    </tr>\n",
       "    <tr>\n",
       "      <th>URTH</th>\n",
       "      <td>0.227679</td>\n",
       "      <td>0.631220</td>\n",
       "    </tr>\n",
       "  </tbody>\n",
       "</table>\n",
       "</div>"
      ],
      "text/plain": [
       "       pos_wgt  vol_contrib\n",
       "AGG   0.738948     0.254442\n",
       "EBND  0.000679     0.000823\n",
       "EEM   0.032694     0.113515\n",
       "URTH  0.227679     0.631220"
      ]
     },
     "execution_count": 37,
     "metadata": {},
     "output_type": "execute_result"
    }
   ],
   "source": [
    "\"\"\"Class attributes store optimised weights.\"\"\"\n",
    "\n",
    "opt.weights"
   ]
  },
  {
   "cell_type": "code",
   "execution_count": 38,
   "metadata": {},
   "outputs": [
    {
     "data": {
      "text/plain": [
       "'max_dr'"
      ]
     },
     "execution_count": 38,
     "metadata": {},
     "output_type": "execute_result"
    }
   ],
   "source": [
    "\"\"\"Class attributes store optimisation method.\"\"\"\n",
    "\n",
    "opt.opt_method"
   ]
  },
  {
   "cell_type": "code",
   "execution_count": 39,
   "metadata": {},
   "outputs": [
    {
     "data": {
      "text/html": [
       "<div>\n",
       "<style>\n",
       "    .dataframe thead tr:only-child th {\n",
       "        text-align: right;\n",
       "    }\n",
       "\n",
       "    .dataframe thead th {\n",
       "        text-align: left;\n",
       "    }\n",
       "\n",
       "    .dataframe tbody tr th {\n",
       "        vertical-align: top;\n",
       "    }\n",
       "</style>\n",
       "<table border=\"1\" class=\"dataframe\">\n",
       "  <thead>\n",
       "    <tr style=\"text-align: right;\">\n",
       "      <th></th>\n",
       "      <th>summary_stats</th>\n",
       "    </tr>\n",
       "  </thead>\n",
       "  <tbody>\n",
       "    <tr>\n",
       "      <th>exp_return</th>\n",
       "      <td>0.035000</td>\n",
       "    </tr>\n",
       "    <tr>\n",
       "      <th>max_drawdown</th>\n",
       "      <td>-0.051268</td>\n",
       "    </tr>\n",
       "    <tr>\n",
       "      <th>sharpe_ratio</th>\n",
       "      <td>0.889718</td>\n",
       "    </tr>\n",
       "    <tr>\n",
       "      <th>volatility</th>\n",
       "      <td>0.039338</td>\n",
       "    </tr>\n",
       "  </tbody>\n",
       "</table>\n",
       "</div>"
      ],
      "text/plain": [
       "              summary_stats\n",
       "exp_return         0.035000\n",
       "max_drawdown      -0.051268\n",
       "sharpe_ratio       0.889718\n",
       "volatility         0.039338"
      ]
     },
     "execution_count": 39,
     "metadata": {},
     "output_type": "execute_result"
    }
   ],
   "source": [
    "\"\"\"Class attributes store optimisation summary statistics.\"\"\"\n",
    "\n",
    "opt.stats"
   ]
  },
  {
   "cell_type": "code",
   "execution_count": null,
   "metadata": {
    "collapsed": true
   },
   "outputs": [],
   "source": []
  }
 ],
 "metadata": {
  "kernelspec": {
   "display_name": "Python 3",
   "language": "python",
   "name": "python3"
  },
  "language_info": {
   "codemirror_mode": {
    "name": "ipython",
    "version": 3
   },
   "file_extension": ".py",
   "mimetype": "text/x-python",
   "name": "python",
   "nbconvert_exporter": "python",
   "pygments_lexer": "ipython3",
   "version": "3.6.2"
  }
 },
 "nbformat": 4,
 "nbformat_minor": 2
}
