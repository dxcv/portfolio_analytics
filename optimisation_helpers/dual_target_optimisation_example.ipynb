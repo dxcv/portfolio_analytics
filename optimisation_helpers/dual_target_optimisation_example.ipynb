{
 "cells": [
  {
   "cell_type": "code",
   "execution_count": 1,
   "metadata": {
    "collapsed": true
   },
   "outputs": [],
   "source": [
    "import pandas as pd\n",
    "import numpy as np"
   ]
  },
  {
   "cell_type": "code",
   "execution_count": 3,
   "metadata": {
    "collapsed": true
   },
   "outputs": [],
   "source": [
    "import pyportopt as opt"
   ]
  },
  {
   "cell_type": "code",
   "execution_count": 4,
   "metadata": {
    "collapsed": true
   },
   "outputs": [],
   "source": [
    "from pandas_datareader import data"
   ]
  },
  {
   "cell_type": "code",
   "execution_count": 8,
   "metadata": {
    "collapsed": true
   },
   "outputs": [],
   "source": [
    "\"\"\"Define parameters for data request.\"\"\"\n",
    "\n",
    "tickers = ['AGG', 'EBND', 'URTH', 'EEM']\n",
    "data_source = 'yahoo'\n",
    "start_date = '2014-03-31'\n",
    "end_date = '2018-03-31'"
   ]
  },
  {
   "cell_type": "code",
   "execution_count": 9,
   "metadata": {},
   "outputs": [],
   "source": [
    "\"\"\"Request data, ensure sorted by ascending date, and normalise.\"\"\"\n",
    "\n",
    "panel_data = data.DataReader(tickers, data_source, start_date, end_date)\n",
    "px_data = panel_data.loc['Adj Close'].dropna().sort_index(ascending=True)\n",
    "px_data = px_data / px_data.iloc[0]"
   ]
  },
  {
   "cell_type": "code",
   "execution_count": 10,
   "metadata": {
    "collapsed": true
   },
   "outputs": [],
   "source": [
    "\"\"\"\n",
    "TEST CASE\n",
    "Add constraints: Portfolio weights must sum to 100%,\n",
    "Add boundaries: Long only, no short positions.\n",
    "\"\"\"\n",
    "\n",
    "cons = [\n",
    "    {'type': 'eq', 'fun': lambda w: np.sum(w) - 1}\n",
    "]\n",
    "\n",
    "bnds = [(0, 1) for x in px_data.columns]"
   ]
  },
  {
   "cell_type": "code",
   "execution_count": 12,
   "metadata": {
    "collapsed": true
   },
   "outputs": [],
   "source": [
    "\"\"\"\n",
    "Define the relaxation tolerance allowed for init_func.\n",
    "For example, if prim_func is max_er and init_func is max_dr,\n",
    "relax_tolderance=0.1 and num_of_steps=10 results in a tolerance of 10% from max_dr optimal in favour of max_er,\n",
    "performed in 10 steps.\n",
    "\"\"\"\n",
    "\n",
    "relax_tolerance = 0.1\n",
    "num_of_steps = 10"
   ]
  },
  {
   "cell_type": "code",
   "execution_count": 15,
   "metadata": {},
   "outputs": [
    {
     "name": "stdout",
     "output_type": "stream",
     "text": [
      "Total time: 3.2692368030548096 secs\n"
     ]
    }
   ],
   "source": [
    "\"\"\"Run optimisation.\"\"\"\n",
    "\n",
    "opt_results = opt.dual_target_optimisation(\n",
    "    opt.max_er, opt.min_vol, px_data, \n",
    "    relax_tol=relax_tolerance, steps=num_of_steps,\n",
    "    rf=0.0, scaling_fact=252, \n",
    "    constraints=cons, bounds=bnds)"
   ]
  },
  {
   "cell_type": "code",
   "execution_count": 16,
   "metadata": {},
   "outputs": [
    {
     "data": {
      "text/html": [
       "<div>\n",
       "<style>\n",
       "    .dataframe thead tr:only-child th {\n",
       "        text-align: right;\n",
       "    }\n",
       "\n",
       "    .dataframe thead th {\n",
       "        text-align: left;\n",
       "    }\n",
       "\n",
       "    .dataframe tbody tr th {\n",
       "        vertical-align: top;\n",
       "    }\n",
       "</style>\n",
       "<table border=\"1\" class=\"dataframe\">\n",
       "  <thead>\n",
       "    <tr style=\"text-align: right;\">\n",
       "      <th></th>\n",
       "      <th>max_er</th>\n",
       "      <th>min_vol</th>\n",
       "      <th>AGG</th>\n",
       "      <th>EBND</th>\n",
       "      <th>EEM</th>\n",
       "      <th>URTH</th>\n",
       "    </tr>\n",
       "    <tr>\n",
       "      <th>step</th>\n",
       "      <th></th>\n",
       "      <th></th>\n",
       "      <th></th>\n",
       "      <th></th>\n",
       "      <th></th>\n",
       "      <th></th>\n",
       "    </tr>\n",
       "  </thead>\n",
       "  <tbody>\n",
       "    <tr>\n",
       "      <th>0</th>\n",
       "      <td>0.025965</td>\n",
       "      <td>0.028787</td>\n",
       "      <td>0.9170</td>\n",
       "      <td>0.0</td>\n",
       "      <td>0.0</td>\n",
       "      <td>0.0830</td>\n",
       "    </tr>\n",
       "    <tr>\n",
       "      <th>1</th>\n",
       "      <td>0.027516</td>\n",
       "      <td>0.029107</td>\n",
       "      <td>0.8874</td>\n",
       "      <td>0.0</td>\n",
       "      <td>0.0</td>\n",
       "      <td>0.1126</td>\n",
       "    </tr>\n",
       "    <tr>\n",
       "      <th>2</th>\n",
       "      <td>0.028167</td>\n",
       "      <td>0.029427</td>\n",
       "      <td>0.8749</td>\n",
       "      <td>0.0</td>\n",
       "      <td>0.0</td>\n",
       "      <td>0.1251</td>\n",
       "    </tr>\n",
       "    <tr>\n",
       "      <th>3</th>\n",
       "      <td>0.028671</td>\n",
       "      <td>0.029747</td>\n",
       "      <td>0.8653</td>\n",
       "      <td>0.0</td>\n",
       "      <td>0.0</td>\n",
       "      <td>0.1347</td>\n",
       "    </tr>\n",
       "    <tr>\n",
       "      <th>4</th>\n",
       "      <td>0.029100</td>\n",
       "      <td>0.030066</td>\n",
       "      <td>0.8572</td>\n",
       "      <td>0.0</td>\n",
       "      <td>0.0</td>\n",
       "      <td>0.1428</td>\n",
       "    </tr>\n",
       "    <tr>\n",
       "      <th>5</th>\n",
       "      <td>0.029481</td>\n",
       "      <td>0.030386</td>\n",
       "      <td>0.8499</td>\n",
       "      <td>0.0</td>\n",
       "      <td>0.0</td>\n",
       "      <td>0.1501</td>\n",
       "    </tr>\n",
       "    <tr>\n",
       "      <th>6</th>\n",
       "      <td>0.029828</td>\n",
       "      <td>0.030706</td>\n",
       "      <td>0.8433</td>\n",
       "      <td>0.0</td>\n",
       "      <td>0.0</td>\n",
       "      <td>0.1567</td>\n",
       "    </tr>\n",
       "    <tr>\n",
       "      <th>7</th>\n",
       "      <td>0.030149</td>\n",
       "      <td>0.031026</td>\n",
       "      <td>0.8372</td>\n",
       "      <td>0.0</td>\n",
       "      <td>0.0</td>\n",
       "      <td>0.1628</td>\n",
       "    </tr>\n",
       "    <tr>\n",
       "      <th>8</th>\n",
       "      <td>0.030451</td>\n",
       "      <td>0.031346</td>\n",
       "      <td>0.8314</td>\n",
       "      <td>0.0</td>\n",
       "      <td>0.0</td>\n",
       "      <td>0.1686</td>\n",
       "    </tr>\n",
       "    <tr>\n",
       "      <th>9</th>\n",
       "      <td>0.030737</td>\n",
       "      <td>0.031666</td>\n",
       "      <td>0.8260</td>\n",
       "      <td>0.0</td>\n",
       "      <td>0.0</td>\n",
       "      <td>0.1740</td>\n",
       "    </tr>\n",
       "  </tbody>\n",
       "</table>\n",
       "</div>"
      ],
      "text/plain": [
       "        max_er   min_vol     AGG  EBND  EEM    URTH\n",
       "step                                               \n",
       "0     0.025965  0.028787  0.9170   0.0  0.0  0.0830\n",
       "1     0.027516  0.029107  0.8874   0.0  0.0  0.1126\n",
       "2     0.028167  0.029427  0.8749   0.0  0.0  0.1251\n",
       "3     0.028671  0.029747  0.8653   0.0  0.0  0.1347\n",
       "4     0.029100  0.030066  0.8572   0.0  0.0  0.1428\n",
       "5     0.029481  0.030386  0.8499   0.0  0.0  0.1501\n",
       "6     0.029828  0.030706  0.8433   0.0  0.0  0.1567\n",
       "7     0.030149  0.031026  0.8372   0.0  0.0  0.1628\n",
       "8     0.030451  0.031346  0.8314   0.0  0.0  0.1686\n",
       "9     0.030737  0.031666  0.8260   0.0  0.0  0.1740"
      ]
     },
     "execution_count": 16,
     "metadata": {},
     "output_type": "execute_result"
    }
   ],
   "source": [
    "\"\"\"View results.\"\"\"\n",
    "\n",
    "opt_results"
   ]
  },
  {
   "cell_type": "code",
   "execution_count": null,
   "metadata": {
    "collapsed": true
   },
   "outputs": [],
   "source": []
  }
 ],
 "metadata": {
  "kernelspec": {
   "display_name": "Python 3",
   "language": "python",
   "name": "python3"
  },
  "language_info": {
   "codemirror_mode": {
    "name": "ipython",
    "version": 3
   },
   "file_extension": ".py",
   "mimetype": "text/x-python",
   "name": "python",
   "nbconvert_exporter": "python",
   "pygments_lexer": "ipython3",
   "version": "3.6.2"
  }
 },
 "nbformat": 4,
 "nbformat_minor": 2
}
