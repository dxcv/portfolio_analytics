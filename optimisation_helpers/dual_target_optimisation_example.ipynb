{
 "cells": [
  {
   "cell_type": "code",
   "execution_count": 1,
   "metadata": {
    "collapsed": true
   },
   "outputs": [],
   "source": [
    "import pandas as pd\n",
    "import numpy as np"
   ]
  },
  {
   "cell_type": "code",
   "execution_count": 2,
   "metadata": {
    "collapsed": true
   },
   "outputs": [],
   "source": [
    "from pyport.portopt import opt, objfunc"
   ]
  },
  {
   "cell_type": "code",
   "execution_count": 3,
   "metadata": {
    "collapsed": true
   },
   "outputs": [],
   "source": [
    "from pandas_datareader import data"
   ]
  },
  {
   "cell_type": "code",
   "execution_count": 4,
   "metadata": {
    "collapsed": true
   },
   "outputs": [],
   "source": [
    "\"\"\"Define parameters for data request.\"\"\"\n",
    "\n",
    "tickers = ['AGG', 'EBND', 'URTH', 'EEM']\n",
    "data_source = 'yahoo'\n",
    "start_date = '2014-03-31'\n",
    "end_date = '2018-03-31'"
   ]
  },
  {
   "cell_type": "code",
   "execution_count": 5,
   "metadata": {
    "collapsed": true
   },
   "outputs": [],
   "source": [
    "\"\"\"Request data, ensure sorted by ascending date, and normalise.\"\"\"\n",
    "\n",
    "panel_data = data.DataReader(tickers, data_source, start_date, end_date)\n",
    "px_data = panel_data.loc['Adj Close'].dropna().sort_index(ascending=True)\n",
    "px_data = px_data / px_data.iloc[0]"
   ]
  },
  {
   "cell_type": "code",
   "execution_count": 6,
   "metadata": {
    "collapsed": true
   },
   "outputs": [],
   "source": [
    "\"\"\"\n",
    "TEST CASE\n",
    "Add constraints: Portfolio weights must sum to 100%,\n",
    "Add boundaries: Long only, no short positions.\n",
    "\"\"\"\n",
    "\n",
    "cons = [\n",
    "    {'type': 'eq', 'fun': lambda w: np.sum(w) - 1}\n",
    "]\n",
    "\n",
    "bnds = [(0, 1) for x in px_data.columns]"
   ]
  },
  {
   "cell_type": "code",
   "execution_count": 7,
   "metadata": {
    "collapsed": true
   },
   "outputs": [],
   "source": [
    "\"\"\"\n",
    "Define the relaxation tolerance allowed for init_func.\n",
    "For example, if prim_func is max_er and init_func is max_dr,\n",
    "relax_tolderance=0.1 and num_of_steps=10 results in a tolerance of 10% from max_dr optimal in favour of max_er,\n",
    "performed in 10 steps.\n",
    "\"\"\"\n",
    "\n",
    "relax_tolerance = 0.1\n",
    "num_of_steps = 10"
   ]
  },
  {
   "cell_type": "code",
   "execution_count": 8,
   "metadata": {},
   "outputs": [
    {
     "name": "stdout",
     "output_type": "stream",
     "text": [
      "Total time: 3.9265191555023193 secs\n"
     ]
    }
   ],
   "source": [
    "\"\"\"Run optimisation.\"\"\"\n",
    "\n",
    "opt_results = opt.dual_target_optimisation(\n",
    "    objfunc.max_er, objfunc.max_dr, px_data, \n",
    "    relax_tol=relax_tolerance, steps=num_of_steps,\n",
    "    rf=0.0, scaling_fact=252, \n",
    "    constraints=cons, bounds=bnds)"
   ]
  },
  {
   "cell_type": "code",
   "execution_count": 9,
   "metadata": {},
   "outputs": [
    {
     "data": {
      "text/html": [
       "<div>\n",
       "<style>\n",
       "    .dataframe thead tr:only-child th {\n",
       "        text-align: right;\n",
       "    }\n",
       "\n",
       "    .dataframe thead th {\n",
       "        text-align: left;\n",
       "    }\n",
       "\n",
       "    .dataframe tbody tr th {\n",
       "        vertical-align: top;\n",
       "    }\n",
       "</style>\n",
       "<table border=\"1\" class=\"dataframe\">\n",
       "  <thead>\n",
       "    <tr style=\"text-align: right;\">\n",
       "      <th></th>\n",
       "      <th>max_er</th>\n",
       "      <th>max_dr</th>\n",
       "      <th>AGG</th>\n",
       "      <th>EBND</th>\n",
       "      <th>EEM</th>\n",
       "      <th>URTH</th>\n",
       "    </tr>\n",
       "    <tr>\n",
       "      <th>step</th>\n",
       "      <th></th>\n",
       "      <th></th>\n",
       "      <th></th>\n",
       "      <th></th>\n",
       "      <th></th>\n",
       "      <th></th>\n",
       "    </tr>\n",
       "  </thead>\n",
       "  <tbody>\n",
       "    <tr>\n",
       "      <th>0</th>\n",
       "      <td>0.029983</td>\n",
       "      <td>1.598375</td>\n",
       "      <td>0.7563</td>\n",
       "      <td>0.0821</td>\n",
       "      <td>0.0074</td>\n",
       "      <td>0.1542</td>\n",
       "    </tr>\n",
       "    <tr>\n",
       "      <th>1</th>\n",
       "      <td>0.032605</td>\n",
       "      <td>1.580615</td>\n",
       "      <td>0.7532</td>\n",
       "      <td>0.0402</td>\n",
       "      <td>0.0180</td>\n",
       "      <td>0.1886</td>\n",
       "    </tr>\n",
       "    <tr>\n",
       "      <th>2</th>\n",
       "      <td>0.033817</td>\n",
       "      <td>1.562856</td>\n",
       "      <td>0.7485</td>\n",
       "      <td>0.0235</td>\n",
       "      <td>0.0234</td>\n",
       "      <td>0.2046</td>\n",
       "    </tr>\n",
       "    <tr>\n",
       "      <th>3</th>\n",
       "      <td>0.034817</td>\n",
       "      <td>1.545096</td>\n",
       "      <td>0.7436</td>\n",
       "      <td>0.0105</td>\n",
       "      <td>0.0285</td>\n",
       "      <td>0.2174</td>\n",
       "    </tr>\n",
       "    <tr>\n",
       "      <th>4</th>\n",
       "      <td>0.035720</td>\n",
       "      <td>1.527336</td>\n",
       "      <td>0.7378</td>\n",
       "      <td>0.0000</td>\n",
       "      <td>0.0330</td>\n",
       "      <td>0.2292</td>\n",
       "    </tr>\n",
       "    <tr>\n",
       "      <th>5</th>\n",
       "      <td>0.029108</td>\n",
       "      <td>1.509576</td>\n",
       "      <td>0.8726</td>\n",
       "      <td>0.0000</td>\n",
       "      <td>0.0000</td>\n",
       "      <td>0.1274</td>\n",
       "    </tr>\n",
       "    <tr>\n",
       "      <th>6</th>\n",
       "      <td>0.037344</td>\n",
       "      <td>1.491817</td>\n",
       "      <td>0.7059</td>\n",
       "      <td>0.0000</td>\n",
       "      <td>0.0356</td>\n",
       "      <td>0.2584</td>\n",
       "    </tr>\n",
       "    <tr>\n",
       "      <th>7</th>\n",
       "      <td>0.038111</td>\n",
       "      <td>1.474056</td>\n",
       "      <td>0.6908</td>\n",
       "      <td>0.0000</td>\n",
       "      <td>0.0376</td>\n",
       "      <td>0.2717</td>\n",
       "    </tr>\n",
       "    <tr>\n",
       "      <th>8</th>\n",
       "      <td>0.038869</td>\n",
       "      <td>1.456297</td>\n",
       "      <td>0.6757</td>\n",
       "      <td>0.0000</td>\n",
       "      <td>0.0399</td>\n",
       "      <td>0.2844</td>\n",
       "    </tr>\n",
       "    <tr>\n",
       "      <th>9</th>\n",
       "      <td>0.039629</td>\n",
       "      <td>1.438538</td>\n",
       "      <td>0.6605</td>\n",
       "      <td>0.0000</td>\n",
       "      <td>0.0426</td>\n",
       "      <td>0.2969</td>\n",
       "    </tr>\n",
       "  </tbody>\n",
       "</table>\n",
       "</div>"
      ],
      "text/plain": [
       "        max_er    max_dr     AGG    EBND     EEM    URTH\n",
       "step                                                    \n",
       "0     0.029983  1.598375  0.7563  0.0821  0.0074  0.1542\n",
       "1     0.032605  1.580615  0.7532  0.0402  0.0180  0.1886\n",
       "2     0.033817  1.562856  0.7485  0.0235  0.0234  0.2046\n",
       "3     0.034817  1.545096  0.7436  0.0105  0.0285  0.2174\n",
       "4     0.035720  1.527336  0.7378  0.0000  0.0330  0.2292\n",
       "5     0.029108  1.509576  0.8726  0.0000  0.0000  0.1274\n",
       "6     0.037344  1.491817  0.7059  0.0000  0.0356  0.2584\n",
       "7     0.038111  1.474056  0.6908  0.0000  0.0376  0.2717\n",
       "8     0.038869  1.456297  0.6757  0.0000  0.0399  0.2844\n",
       "9     0.039629  1.438538  0.6605  0.0000  0.0426  0.2969"
      ]
     },
     "execution_count": 9,
     "metadata": {},
     "output_type": "execute_result"
    }
   ],
   "source": [
    "\"\"\"View results.\"\"\"\n",
    "\n",
    "opt_results"
   ]
  }
 ],
 "metadata": {
  "kernelspec": {
   "display_name": "Python 3",
   "language": "python",
   "name": "python3"
  },
  "language_info": {
   "codemirror_mode": {
    "name": "ipython",
    "version": 3
   },
   "file_extension": ".py",
   "mimetype": "text/x-python",
   "name": "python",
   "nbconvert_exporter": "python",
   "pygments_lexer": "ipython3",
   "version": "3.6.2"
  }
 },
 "nbformat": 4,
 "nbformat_minor": 2
}
