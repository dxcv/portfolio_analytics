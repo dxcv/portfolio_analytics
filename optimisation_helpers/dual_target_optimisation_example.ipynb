{
 "cells": [
  {
   "cell_type": "code",
   "execution_count": 1,
   "metadata": {
    "collapsed": true
   },
   "outputs": [],
   "source": [
    "import pandas as pd\n",
    "import numpy as np"
   ]
  },
  {
   "cell_type": "code",
   "execution_count": 2,
   "metadata": {
    "collapsed": true
   },
   "outputs": [],
   "source": [
    "from pyport.portopt import opt, objfunc"
   ]
  },
  {
   "cell_type": "code",
   "execution_count": 3,
   "metadata": {
    "collapsed": true
   },
   "outputs": [],
   "source": [
    "from pandas_datareader import data"
   ]
  },
  {
   "cell_type": "code",
   "execution_count": 4,
   "metadata": {
    "collapsed": true
   },
   "outputs": [],
   "source": [
    "\"\"\"Define parameters for data request.\"\"\"\n",
    "\n",
    "tickers = ['AGG', 'EBND', 'URTH', 'EEM']\n",
    "data_source = 'yahoo'\n",
    "start_date = '2014-03-31'\n",
    "end_date = '2018-03-31'"
   ]
  },
  {
   "cell_type": "code",
   "execution_count": 5,
   "metadata": {},
   "outputs": [],
   "source": [
    "\"\"\"Request data, ensure sorted by ascending date, and normalise.\"\"\"\n",
    "\n",
    "panel_data = data.DataReader(tickers, data_source, start_date, end_date)\n",
    "px_data = panel_data.loc['Adj Close'].dropna().sort_index(ascending=True)\n",
    "px_data = px_data / px_data.iloc[0]"
   ]
  },
  {
   "cell_type": "code",
   "execution_count": 6,
   "metadata": {
    "collapsed": true
   },
   "outputs": [],
   "source": [
    "\"\"\"\n",
    "TEST CASE\n",
    "Add constraints: Portfolio weights must sum to 100%,\n",
    "Add boundaries: Long only, no short positions.\n",
    "\"\"\"\n",
    "\n",
    "cons = [\n",
    "    {'type': 'eq', 'fun': lambda w: np.sum(w) - 1}\n",
    "]\n",
    "\n",
    "bnds = [(0, 1) for x in px_data.columns]"
   ]
  },
  {
   "cell_type": "code",
   "execution_count": 7,
   "metadata": {
    "collapsed": true
   },
   "outputs": [],
   "source": [
    "\"\"\"\n",
    "Define the relaxation tolerance allowed for init_func.\n",
    "For example, if prim_func is max_er and init_func is max_dr,\n",
    "relax_tolderance=0.1 and num_of_steps=10 results in a tolerance of 10% from max_dr optimal in favour of max_er,\n",
    "performed in 10 steps.\n",
    "\"\"\"\n",
    "\n",
    "relax_tolerance = 0.1\n",
    "num_of_steps = 10"
   ]
  },
  {
   "cell_type": "code",
   "execution_count": 8,
   "metadata": {},
   "outputs": [
    {
     "name": "stdout",
     "output_type": "stream",
     "text": [
      "Total time: 3.166881799697876 secs\n"
     ]
    }
   ],
   "source": [
    "\"\"\"Run optimisation.\"\"\"\n",
    "\n",
    "opt_results = opt.dual_target_optimisation(\n",
    "    objfunc.max_er, objfunc.min_vol, px_data, \n",
    "    relax_tol=relax_tolerance, steps=num_of_steps,\n",
    "    rf=0.0, scaling_fact=252, \n",
    "    constraints=cons, bounds=bnds)"
   ]
  },
  {
   "cell_type": "code",
   "execution_count": 9,
   "metadata": {},
   "outputs": [
    {
     "data": {
      "text/html": [
       "<div>\n",
       "<style>\n",
       "    .dataframe thead tr:only-child th {\n",
       "        text-align: right;\n",
       "    }\n",
       "\n",
       "    .dataframe thead th {\n",
       "        text-align: left;\n",
       "    }\n",
       "\n",
       "    .dataframe tbody tr th {\n",
       "        vertical-align: top;\n",
       "    }\n",
       "</style>\n",
       "<table border=\"1\" class=\"dataframe\">\n",
       "  <thead>\n",
       "    <tr style=\"text-align: right;\">\n",
       "      <th></th>\n",
       "      <th>max_er</th>\n",
       "      <th>min_vol</th>\n",
       "      <th>AGG</th>\n",
       "      <th>EBND</th>\n",
       "      <th>EEM</th>\n",
       "      <th>URTH</th>\n",
       "    </tr>\n",
       "    <tr>\n",
       "      <th>step</th>\n",
       "      <th></th>\n",
       "      <th></th>\n",
       "      <th></th>\n",
       "      <th></th>\n",
       "      <th></th>\n",
       "      <th></th>\n",
       "    </tr>\n",
       "  </thead>\n",
       "  <tbody>\n",
       "    <tr>\n",
       "      <th>0</th>\n",
       "      <td>0.026816</td>\n",
       "      <td>0.028786</td>\n",
       "      <td>0.9171</td>\n",
       "      <td>0.0</td>\n",
       "      <td>0.0</td>\n",
       "      <td>0.0829</td>\n",
       "    </tr>\n",
       "    <tr>\n",
       "      <th>1</th>\n",
       "      <td>0.028341</td>\n",
       "      <td>0.029106</td>\n",
       "      <td>0.8875</td>\n",
       "      <td>0.0</td>\n",
       "      <td>0.0</td>\n",
       "      <td>0.1125</td>\n",
       "    </tr>\n",
       "    <tr>\n",
       "      <th>2</th>\n",
       "      <td>0.028981</td>\n",
       "      <td>0.029425</td>\n",
       "      <td>0.8750</td>\n",
       "      <td>0.0</td>\n",
       "      <td>0.0</td>\n",
       "      <td>0.1250</td>\n",
       "    </tr>\n",
       "    <tr>\n",
       "      <th>3</th>\n",
       "      <td>0.029476</td>\n",
       "      <td>0.029745</td>\n",
       "      <td>0.8654</td>\n",
       "      <td>0.0</td>\n",
       "      <td>0.0</td>\n",
       "      <td>0.1346</td>\n",
       "    </tr>\n",
       "    <tr>\n",
       "      <th>4</th>\n",
       "      <td>0.029898</td>\n",
       "      <td>0.030065</td>\n",
       "      <td>0.8573</td>\n",
       "      <td>0.0</td>\n",
       "      <td>0.0</td>\n",
       "      <td>0.1427</td>\n",
       "    </tr>\n",
       "    <tr>\n",
       "      <th>5</th>\n",
       "      <td>0.030272</td>\n",
       "      <td>0.030385</td>\n",
       "      <td>0.8500</td>\n",
       "      <td>0.0</td>\n",
       "      <td>0.0</td>\n",
       "      <td>0.1500</td>\n",
       "    </tr>\n",
       "    <tr>\n",
       "      <th>6</th>\n",
       "      <td>0.030613</td>\n",
       "      <td>0.030705</td>\n",
       "      <td>0.8434</td>\n",
       "      <td>0.0</td>\n",
       "      <td>0.0</td>\n",
       "      <td>0.1566</td>\n",
       "    </tr>\n",
       "    <tr>\n",
       "      <th>7</th>\n",
       "      <td>0.030929</td>\n",
       "      <td>0.031025</td>\n",
       "      <td>0.8373</td>\n",
       "      <td>0.0</td>\n",
       "      <td>0.0</td>\n",
       "      <td>0.1627</td>\n",
       "    </tr>\n",
       "    <tr>\n",
       "      <th>8</th>\n",
       "      <td>0.031226</td>\n",
       "      <td>0.031345</td>\n",
       "      <td>0.8315</td>\n",
       "      <td>0.0</td>\n",
       "      <td>0.0</td>\n",
       "      <td>0.1685</td>\n",
       "    </tr>\n",
       "    <tr>\n",
       "      <th>9</th>\n",
       "      <td>0.031507</td>\n",
       "      <td>0.031665</td>\n",
       "      <td>0.8261</td>\n",
       "      <td>0.0</td>\n",
       "      <td>0.0</td>\n",
       "      <td>0.1739</td>\n",
       "    </tr>\n",
       "  </tbody>\n",
       "</table>\n",
       "</div>"
      ],
      "text/plain": [
       "        max_er   min_vol     AGG  EBND  EEM    URTH\n",
       "step                                               \n",
       "0     0.026816  0.028786  0.9171   0.0  0.0  0.0829\n",
       "1     0.028341  0.029106  0.8875   0.0  0.0  0.1125\n",
       "2     0.028981  0.029425  0.8750   0.0  0.0  0.1250\n",
       "3     0.029476  0.029745  0.8654   0.0  0.0  0.1346\n",
       "4     0.029898  0.030065  0.8573   0.0  0.0  0.1427\n",
       "5     0.030272  0.030385  0.8500   0.0  0.0  0.1500\n",
       "6     0.030613  0.030705  0.8434   0.0  0.0  0.1566\n",
       "7     0.030929  0.031025  0.8373   0.0  0.0  0.1627\n",
       "8     0.031226  0.031345  0.8315   0.0  0.0  0.1685\n",
       "9     0.031507  0.031665  0.8261   0.0  0.0  0.1739"
      ]
     },
     "execution_count": 9,
     "metadata": {},
     "output_type": "execute_result"
    }
   ],
   "source": [
    "\"\"\"View results.\"\"\"\n",
    "\n",
    "opt_results"
   ]
  }
 ],
 "metadata": {
  "kernelspec": {
   "display_name": "Python 3",
   "language": "python",
   "name": "python3"
  },
  "language_info": {
   "codemirror_mode": {
    "name": "ipython",
    "version": 3
   },
   "file_extension": ".py",
   "mimetype": "text/x-python",
   "name": "python",
   "nbconvert_exporter": "python",
   "pygments_lexer": "ipython3",
   "version": "3.6.2"
  }
 },
 "nbformat": 4,
 "nbformat_minor": 2
}
