{
 "cells": [
  {
   "cell_type": "code",
   "execution_count": 1,
   "metadata": {
    "collapsed": true
   },
   "outputs": [],
   "source": [
    "import pandas as pd\n",
    "import numpy as np\n",
    "import matplotlib.pyplot as plt\n",
    "%matplotlib inline"
   ]
  },
  {
   "cell_type": "code",
   "execution_count": 2,
   "metadata": {},
   "outputs": [],
   "source": [
    "from helpers import Opt_Helpers, BT_Helpers\n",
    "from pandas_datareader import data"
   ]
  },
  {
   "cell_type": "code",
   "execution_count": 3,
   "metadata": {
    "collapsed": true
   },
   "outputs": [],
   "source": [
    "\"\"\"Define parameters for data request.\"\"\"\n",
    "\n",
    "tickers = ['AGG', 'EBND', 'URTH', 'EEM']\n",
    "data_source = 'yahoo'\n",
    "start_date = '2014-03-31'\n",
    "end_date = '2018-03-31'"
   ]
  },
  {
   "cell_type": "code",
   "execution_count": 4,
   "metadata": {},
   "outputs": [],
   "source": [
    "\"\"\"Request data, ensure sorted by ascending date, and normalise.\"\"\"\n",
    "\n",
    "panel_data = data.DataReader(tickers, data_source, start_date, end_date)\n",
    "px_data = panel_data.loc['Adj Close'].dropna().sort_index(ascending=True)\n",
    "px_data = px_data / px_data.iloc[0]"
   ]
  },
  {
   "cell_type": "code",
   "execution_count": 5,
   "metadata": {},
   "outputs": [],
   "source": [
    "\"\"\"Initialise optimisation class with price data.\"\"\"\n",
    "\n",
    "opt = Opt_Helpers(px_data, rf=0, scaling_fact=252)"
   ]
  },
  {
   "cell_type": "code",
   "execution_count": 6,
   "metadata": {
    "collapsed": true
   },
   "outputs": [],
   "source": [
    "\"\"\"\n",
    "TEST CASE\n",
    "Add constraints: Portfolio weights must sum to 100%, minimum ann. return > 3.0%,\n",
    "Add boundaries: Long only, no short positions.\n",
    "\"\"\"\n",
    "\n",
    "min_ret = 0.035\n",
    "\n",
    "cons = (\n",
    "    {'type': 'eq', 'fun': lambda w: np.sum(w) - 1},\n",
    "    {'type': 'ineq', 'fun': lambda w: opt.summary_stats(w)['exp_return'] - min_ret}\n",
    ")\n",
    "\n",
    "bnds = tuple((0, 1) for x in px_data.columns)"
   ]
  },
  {
   "cell_type": "code",
   "execution_count": 7,
   "metadata": {},
   "outputs": [
    {
     "name": "stdout",
     "output_type": "stream",
     "text": [
      "Optimization terminated successfully. Success==True after 7 iterations.\n",
      "Total time: 0.20122885704040527 secs\n"
     ]
    }
   ],
   "source": [
    "\"\"\"Run optimisation.\"\"\"\n",
    "\n",
    "opt.port_optimisation(opt.max_dr, constraints=cons, bounds=bnds)"
   ]
  },
  {
   "cell_type": "code",
   "execution_count": 8,
   "metadata": {},
   "outputs": [
    {
     "data": {
      "text/plain": [
       "array([  7.38950123e-01,   6.81152850e-04,   3.26951070e-02,\n",
       "         2.27673617e-01])"
      ]
     },
     "execution_count": 8,
     "metadata": {},
     "output_type": "execute_result"
    }
   ],
   "source": [
    "\"\"\"Class attributes store optimised weights.\"\"\"\n",
    "\n",
    "opt.weights"
   ]
  },
  {
   "cell_type": "code",
   "execution_count": 9,
   "metadata": {
    "collapsed": true
   },
   "outputs": [],
   "source": [
    "\"\"\"Initialise backtest class.\"\"\"\n",
    "\n",
    "bt = BT_Helpers(px_data, opt_period = 365, val_period = 90, rf=0, scaling_fact=252)"
   ]
  },
  {
   "cell_type": "code",
   "execution_count": 10,
   "metadata": {},
   "outputs": [
    {
     "name": "stdout",
     "output_type": "stream",
     "text": [
      "Optimization terminated successfully. Success==True after 6 iterations.\n",
      "Total time: 0.16022658348083496 secs\n",
      "Optimization terminated successfully. Success==True after 6 iterations.\n",
      "Total time: 0.17048883438110352 secs\n",
      "Optimization terminated successfully. Success==True after 6 iterations.\n",
      "Total time: 0.1844329833984375 secs\n",
      "Optimization terminated successfully. Success==True after 5 iterations.\n",
      "Total time: 0.1406397819519043 secs\n",
      "Optimization terminated successfully. Success==True after 5 iterations.\n",
      "Total time: 0.14734792709350586 secs\n",
      "Optimization terminated successfully. Success==True after 3 iterations.\n",
      "Total time: 0.07813286781311035 secs\n",
      "Optimization terminated successfully. Success==True after 3 iterations.\n",
      "Total time: 0.07813358306884766 secs\n",
      "Optimization terminated successfully. Success==True after 3 iterations.\n",
      "Total time: 0.09603643417358398 secs\n",
      "Optimization terminated successfully. Success==True after 5 iterations.\n",
      "Total time: 0.14933276176452637 secs\n",
      "Optimization terminated successfully. Success==True after 5 iterations.\n",
      "Total time: 0.14674687385559082 secs\n",
      "Optimization terminated successfully. Success==True after 4 iterations.\n",
      "Total time: 0.11902093887329102 secs\n",
      "Optimization terminated successfully. Success==True after 6 iterations.\n",
      "Total time: 0.16489171981811523 secs\n"
     ]
    }
   ],
   "source": [
    "\"\"\"Generate historical optimisation weights.\"\"\"\n",
    "\n",
    "bt_res = bt.bt_optimisation(opt.max_dr, constraints=cons, bounds=bnds)"
   ]
  },
  {
   "cell_type": "code",
   "execution_count": null,
   "metadata": {
    "collapsed": true
   },
   "outputs": [],
   "source": []
  }
 ],
 "metadata": {
  "kernelspec": {
   "display_name": "Python 3",
   "language": "python",
   "name": "python3"
  },
  "language_info": {
   "codemirror_mode": {
    "name": "ipython",
    "version": 3
   },
   "file_extension": ".py",
   "mimetype": "text/x-python",
   "name": "python",
   "nbconvert_exporter": "python",
   "pygments_lexer": "ipython3",
   "version": "3.6.2"
  }
 },
 "nbformat": 4,
 "nbformat_minor": 2
}
